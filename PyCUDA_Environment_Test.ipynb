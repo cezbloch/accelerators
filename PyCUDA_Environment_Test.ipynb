{
 "cells": [
  {
   "cell_type": "markdown",
   "id": "77dc177f",
   "metadata": {},
   "source": [
    "# PyCUDA Environment Test\n",
    "\n",
    "This notebook is designed to verify that your PyCUDA installation and GPU environment are working correctly before starting the GPU programming course. If all cells execute and the final message is printed, your setup is ready for the course."
   ]
  },
  {
   "cell_type": "code",
   "execution_count": 1,
   "id": "315d1a4d",
   "metadata": {},
   "outputs": [
    {
     "ename": "ImportError",
     "evalue": "DLL load failed while importing _driver: The specified module could not be found.",
     "output_type": "error",
     "traceback": [
      "\u001b[31m---------------------------------------------------------------------------\u001b[39m",
      "\u001b[31mImportError\u001b[39m                               Traceback (most recent call last)",
      "\u001b[36mCell\u001b[39m\u001b[36m \u001b[39m\u001b[32mIn[1]\u001b[39m\u001b[32m, line 1\u001b[39m\n\u001b[32m----> \u001b[39m\u001b[32m1\u001b[39m \u001b[38;5;28;01mimport\u001b[39;00m\u001b[38;5;250m \u001b[39m\u001b[34;01mpycuda\u001b[39;00m\u001b[34;01m.\u001b[39;00m\u001b[34;01mdriver\u001b[39;00m\u001b[38;5;250m \u001b[39m\u001b[38;5;28;01mas\u001b[39;00m\u001b[38;5;250m \u001b[39m\u001b[34;01mcuda\u001b[39;00m\n\u001b[32m      2\u001b[39m \u001b[38;5;28;01mimport\u001b[39;00m\u001b[38;5;250m \u001b[39m\u001b[34;01mpycuda\u001b[39;00m\u001b[34;01m.\u001b[39;00m\u001b[34;01mautoinit\u001b[39;00m\n\u001b[32m      3\u001b[39m \u001b[38;5;28;01mfrom\u001b[39;00m\u001b[38;5;250m \u001b[39m\u001b[34;01mpycuda\u001b[39;00m\u001b[34;01m.\u001b[39;00m\u001b[34;01mcompiler\u001b[39;00m\u001b[38;5;250m \u001b[39m\u001b[38;5;28;01mimport\u001b[39;00m SourceModule\n",
      "\u001b[36mFile \u001b[39m\u001b[32mc:\\projects\\accelerators\\.venv\\Lib\\site-packages\\pycuda\\driver.py:70\u001b[39m\n\u001b[32m     66\u001b[39m \u001b[38;5;66;03m# }}}\u001b[39;00m\n\u001b[32m     69\u001b[39m \u001b[38;5;28;01mtry\u001b[39;00m:\n\u001b[32m---> \u001b[39m\u001b[32m70\u001b[39m     \u001b[38;5;28;01mfrom\u001b[39;00m\u001b[38;5;250m \u001b[39m\u001b[34;01mpycuda\u001b[39;00m\u001b[34;01m.\u001b[39;00m\u001b[34;01m_driver\u001b[39;00m\u001b[38;5;250m \u001b[39m\u001b[38;5;28;01mimport\u001b[39;00m *  \u001b[38;5;66;03m# noqa\u001b[39;00m\n\u001b[32m     71\u001b[39m \u001b[38;5;28;01mexcept\u001b[39;00m \u001b[38;5;167;01mImportError\u001b[39;00m \u001b[38;5;28;01mas\u001b[39;00m e:\n\u001b[32m     72\u001b[39m     \u001b[38;5;28;01mif\u001b[39;00m \u001b[33m\"\u001b[39m\u001b[33m_v2\u001b[39m\u001b[33m\"\u001b[39m \u001b[38;5;129;01min\u001b[39;00m \u001b[38;5;28mstr\u001b[39m(e):\n",
      "\u001b[31mImportError\u001b[39m: DLL load failed while importing _driver: The specified module could not be found."
     ]
    }
   ],
   "source": [
    "import pycuda.driver as cuda\n",
    "import pycuda.autoinit\n",
    "from pycuda.compiler import SourceModule\n",
    "import numpy as np\n",
    "\n",
    "print(f\"CUDA driver version: {cuda.get_version()}\")\n",
    "print(f\"Number of CUDA devices: {cuda.Device.count()}\")\n",
    "for i in range(cuda.Device.count()):\n",
    "    dev = cuda.Device(i)\n",
    "    print(f\"Device {i}: {dev.name()} (Compute Capability: {dev.compute_capability()})\")"
   ]
  },
  {
   "cell_type": "code",
   "execution_count": 2,
   "id": "ad44facb",
   "metadata": {},
   "outputs": [
    {
     "name": "stdout",
     "output_type": "stream",
     "text": [
      "Working with 33,554,432 elements with 134,217,728 bytes.\n"
     ]
    },
    {
     "ename": "CompileError",
     "evalue": "nvcc compilation of C:\\Users\\cezbl\\AppData\\Local\\Temp\\tmpxmd8j231\\kernel.cu failed\n[command: nvcc --cubin -arch sm_75 -m64 -Ic:\\projects\\accelerators\\.venv\\Lib\\site-packages\\pycuda\\cuda kernel.cu]\n[stdout:\nnvcc fatal   : Cannot find compiler 'cl.exe' in PATH\r\n]",
     "output_type": "error",
     "traceback": [
      "\u001b[31m---------------------------------------------------------------------------\u001b[39m",
      "\u001b[31mCompileError\u001b[39m                              Traceback (most recent call last)",
      "\u001b[36mCell\u001b[39m\u001b[36m \u001b[39m\u001b[32mIn[2]\u001b[39m\u001b[32m, line 8\u001b[39m\n\u001b[32m      4\u001b[39m h_c = np.zeros_like(h_a)\n\u001b[32m      6\u001b[39m \u001b[38;5;28mprint\u001b[39m(\u001b[33mf\u001b[39m\u001b[33m\"\u001b[39m\u001b[33mWorking with \u001b[39m\u001b[38;5;132;01m{\u001b[39;00m\u001b[38;5;28mlen\u001b[39m(h_a)\u001b[38;5;132;01m:\u001b[39;00m\u001b[33m,\u001b[39m\u001b[38;5;132;01m}\u001b[39;00m\u001b[33m elements with \u001b[39m\u001b[38;5;132;01m{\u001b[39;00mh_a.nbytes\u001b[38;5;132;01m:\u001b[39;00m\u001b[33m,\u001b[39m\u001b[38;5;132;01m}\u001b[39;00m\u001b[33m bytes.\u001b[39m\u001b[33m\"\u001b[39m)\n\u001b[32m----> \u001b[39m\u001b[32m8\u001b[39m mod = \u001b[43mSourceModule\u001b[49m\u001b[43m(\u001b[49m\u001b[33;43m\"\"\"\u001b[39;49m\n\u001b[32m      9\u001b[39m \u001b[33;43m__global__ void add_vectors(int *a, int *b, int *c, int N) \u001b[39;49m\u001b[33;43m{\u001b[39;49m\n\u001b[32m     10\u001b[39m \u001b[33;43m    int idx = threadIdx.x + blockDim.x * blockIdx.x;\u001b[39;49m\n\u001b[32m     11\u001b[39m \u001b[33;43m    if (idx < N) \u001b[39;49m\u001b[33;43m{\u001b[39;49m\n\u001b[32m     12\u001b[39m \u001b[33;43m        c[idx] = 2 * a[idx] + b[idx];\u001b[39;49m\n\u001b[32m     13\u001b[39m \u001b[33;43m    }\u001b[39;49m\n\u001b[32m     14\u001b[39m \u001b[33;43m}\u001b[39;49m\n\u001b[32m     15\u001b[39m \u001b[33;43m\"\"\"\u001b[39;49m\u001b[43m)\u001b[49m\n\u001b[32m     16\u001b[39m add_vectors = mod.get_function(\u001b[33m\"\u001b[39m\u001b[33madd_vectors\u001b[39m\u001b[33m\"\u001b[39m)\n",
      "\u001b[36mFile \u001b[39m\u001b[32mc:\\projects\\accelerators\\.venv\\Lib\\site-packages\\pycuda\\compiler.py:348\u001b[39m, in \u001b[36mSourceModule.__init__\u001b[39m\u001b[34m(self, source, nvcc, options, keep, no_extern_c, arch, code, cache_dir, include_dirs)\u001b[39m\n\u001b[32m    345\u001b[39m     include_dirs = []\n\u001b[32m    346\u001b[39m \u001b[38;5;28mself\u001b[39m._check_arch(arch)\n\u001b[32m--> \u001b[39m\u001b[32m348\u001b[39m cubin = \u001b[38;5;28;43mcompile\u001b[39;49m\u001b[43m(\u001b[49m\n\u001b[32m    349\u001b[39m \u001b[43m    \u001b[49m\u001b[43msource\u001b[49m\u001b[43m,\u001b[49m\n\u001b[32m    350\u001b[39m \u001b[43m    \u001b[49m\u001b[43mnvcc\u001b[49m\u001b[43m,\u001b[49m\n\u001b[32m    351\u001b[39m \u001b[43m    \u001b[49m\u001b[43moptions\u001b[49m\u001b[43m,\u001b[49m\n\u001b[32m    352\u001b[39m \u001b[43m    \u001b[49m\u001b[43mkeep\u001b[49m\u001b[43m,\u001b[49m\n\u001b[32m    353\u001b[39m \u001b[43m    \u001b[49m\u001b[43mno_extern_c\u001b[49m\u001b[43m,\u001b[49m\n\u001b[32m    354\u001b[39m \u001b[43m    \u001b[49m\u001b[43march\u001b[49m\u001b[43m,\u001b[49m\n\u001b[32m    355\u001b[39m \u001b[43m    \u001b[49m\u001b[43mcode\u001b[49m\u001b[43m,\u001b[49m\n\u001b[32m    356\u001b[39m \u001b[43m    \u001b[49m\u001b[43mcache_dir\u001b[49m\u001b[43m,\u001b[49m\n\u001b[32m    357\u001b[39m \u001b[43m    \u001b[49m\u001b[43minclude_dirs\u001b[49m\u001b[43m,\u001b[49m\n\u001b[32m    358\u001b[39m \u001b[43m\u001b[49m\u001b[43m)\u001b[49m\n\u001b[32m    360\u001b[39m \u001b[38;5;28;01mfrom\u001b[39;00m\u001b[38;5;250m \u001b[39m\u001b[34;01mpycuda\u001b[39;00m\u001b[34;01m.\u001b[39;00m\u001b[34;01mdriver\u001b[39;00m\u001b[38;5;250m \u001b[39m\u001b[38;5;28;01mimport\u001b[39;00m module_from_buffer\n\u001b[32m    362\u001b[39m \u001b[38;5;28mself\u001b[39m.module = module_from_buffer(cubin)\n",
      "\u001b[36mFile \u001b[39m\u001b[32mc:\\projects\\accelerators\\.venv\\Lib\\site-packages\\pycuda\\compiler.py:295\u001b[39m, in \u001b[36mcompile\u001b[39m\u001b[34m(source, nvcc, options, keep, no_extern_c, arch, code, cache_dir, include_dirs, target)\u001b[39m\n\u001b[32m    292\u001b[39m \u001b[38;5;28;01mfor\u001b[39;00m i \u001b[38;5;129;01min\u001b[39;00m include_dirs:\n\u001b[32m    293\u001b[39m     options.append(\u001b[33m\"\u001b[39m\u001b[33m-I\u001b[39m\u001b[33m\"\u001b[39m + i)\n\u001b[32m--> \u001b[39m\u001b[32m295\u001b[39m \u001b[38;5;28;01mreturn\u001b[39;00m \u001b[43mcompile_plain\u001b[49m\u001b[43m(\u001b[49m\u001b[43msource\u001b[49m\u001b[43m,\u001b[49m\u001b[43m \u001b[49m\u001b[43moptions\u001b[49m\u001b[43m,\u001b[49m\u001b[43m \u001b[49m\u001b[43mkeep\u001b[49m\u001b[43m,\u001b[49m\u001b[43m \u001b[49m\u001b[43mnvcc\u001b[49m\u001b[43m,\u001b[49m\u001b[43m \u001b[49m\u001b[43mcache_dir\u001b[49m\u001b[43m,\u001b[49m\u001b[43m \u001b[49m\u001b[43mtarget\u001b[49m\u001b[43m)\u001b[49m\n",
      "\u001b[36mFile \u001b[39m\u001b[32mc:\\projects\\accelerators\\.venv\\Lib\\site-packages\\pycuda\\compiler.py:150\u001b[39m, in \u001b[36mcompile_plain\u001b[39m\u001b[34m(source, options, keep, nvcc, cache_dir, target)\u001b[39m\n\u001b[32m    144\u001b[39m         warn(\n\u001b[32m    145\u001b[39m             \u001b[33m\"\u001b[39m\u001b[33mPyCUDA: nvcc exited with status 0, but appears to have \u001b[39m\u001b[33m\"\u001b[39m\n\u001b[32m    146\u001b[39m             \u001b[33m\"\u001b[39m\u001b[33mencountered an error\u001b[39m\u001b[33m\"\u001b[39m, stacklevel=\u001b[32m2\u001b[39m\n\u001b[32m    147\u001b[39m         )\n\u001b[32m    148\u001b[39m     \u001b[38;5;28;01mfrom\u001b[39;00m\u001b[38;5;250m \u001b[39m\u001b[34;01mpycuda\u001b[39;00m\u001b[34;01m.\u001b[39;00m\u001b[34;01mdriver\u001b[39;00m\u001b[38;5;250m \u001b[39m\u001b[38;5;28;01mimport\u001b[39;00m CompileError\n\u001b[32m--> \u001b[39m\u001b[32m150\u001b[39m     \u001b[38;5;28;01mraise\u001b[39;00m CompileError(\n\u001b[32m    151\u001b[39m         \u001b[33m\"\u001b[39m\u001b[33mnvcc compilation of \u001b[39m\u001b[38;5;132;01m%s\u001b[39;00m\u001b[33m failed\u001b[39m\u001b[33m\"\u001b[39m % cu_file_path,\n\u001b[32m    152\u001b[39m         cmdline,\n\u001b[32m    153\u001b[39m         stdout=stdout.decode(\u001b[33m\"\u001b[39m\u001b[33mutf-8\u001b[39m\u001b[33m\"\u001b[39m, \u001b[33m\"\u001b[39m\u001b[33mreplace\u001b[39m\u001b[33m\"\u001b[39m),\n\u001b[32m    154\u001b[39m         stderr=stderr.decode(\u001b[33m\"\u001b[39m\u001b[33mutf-8\u001b[39m\u001b[33m\"\u001b[39m, \u001b[33m\"\u001b[39m\u001b[33mreplace\u001b[39m\u001b[33m\"\u001b[39m),\n\u001b[32m    155\u001b[39m     )\n\u001b[32m    157\u001b[39m \u001b[38;5;28;01mif\u001b[39;00m stdout \u001b[38;5;129;01mor\u001b[39;00m stderr:\n\u001b[32m    158\u001b[39m     lcase_err_text = (stdout + stderr).decode(\u001b[33m\"\u001b[39m\u001b[33mutf-8\u001b[39m\u001b[33m\"\u001b[39m, \u001b[33m\"\u001b[39m\u001b[33mreplace\u001b[39m\u001b[33m\"\u001b[39m).lower()\n",
      "\u001b[31mCompileError\u001b[39m: nvcc compilation of C:\\Users\\cezbl\\AppData\\Local\\Temp\\tmpxmd8j231\\kernel.cu failed\n[command: nvcc --cubin -arch sm_75 -m64 -Ic:\\projects\\accelerators\\.venv\\Lib\\site-packages\\pycuda\\cuda kernel.cu]\n[stdout:\nnvcc fatal   : Cannot find compiler 'cl.exe' in PATH\r\n]"
     ]
    }
   ],
   "source": [
    "N = 2**25\n",
    "h_a = np.full(N, 1, dtype=np.int32)\n",
    "h_b = np.full(N, 2, dtype=np.int32)\n",
    "h_c = np.zeros_like(h_a)\n",
    "\n",
    "print(f\"Working with {len(h_a):,} elements with {h_a.nbytes:,} bytes.\")\n",
    "\n",
    "mod = SourceModule(\"\"\"\n",
    "__global__ void add_vectors(int *a, int *b, int *c, int N) {\n",
    "    int idx = threadIdx.x + blockDim.x * blockIdx.x;\n",
    "    if (idx < N) {\n",
    "        c[idx] = 2 * a[idx] + b[idx];\n",
    "    }\n",
    "}\n",
    "\"\"\")\n",
    "add_vectors = mod.get_function(\"add_vectors\")"
   ]
  },
  {
   "cell_type": "code",
   "execution_count": null,
   "id": "1f05ca2b",
   "metadata": {},
   "outputs": [],
   "source": [
    "import pycuda.gpuarray as gpuarray\n",
    "import time\n",
    "\n",
    "d_a = gpuarray.to_gpu(h_a)\n",
    "d_b = gpuarray.to_gpu(h_b)\n",
    "d_c = gpuarray.empty_like(d_a)\n",
    "\n",
    "block_size = 256\n",
    "grid_size = (N + block_size - 1) // block_size\n",
    "\n",
    "start = cuda.Event()\n",
    "end = cuda.Event()\n",
    "\n",
    "start.record()\n",
    "add_vectors(d_a, d_b, d_c, np.int32(N), block=(block_size,1,1), grid=(grid_size,1))\n",
    "end.record()\n",
    "end.synchronize()\n",
    "elapsed_ms = start.time_till(end)\n",
    "\n",
    "h_c = d_c.get()\n",
    "print(f\"Kernel execution time: {elapsed_ms:.4f} ms\")"
   ]
  },
  {
   "cell_type": "code",
   "execution_count": null,
   "id": "c0a7c3a9",
   "metadata": {},
   "outputs": [],
   "source": [
    "def compute_linear_equations_cpu(a, b):\n",
    "    return 2 * a + b\n",
    "\n",
    "numpy_res = compute_linear_equations_cpu(h_a, h_b)\n",
    "np.testing.assert_array_equal(numpy_res, h_c)\n",
    "\n",
    "print(\"If this message got printed in the output cell then everything worked correctly for PyCUDA.\")"
   ]
  }
 ],
 "metadata": {
  "kernelspec": {
   "display_name": ".venv (3.11.7)",
   "language": "python",
   "name": "python3"
  },
  "language_info": {
   "codemirror_mode": {
    "name": "ipython",
    "version": 3
   },
   "file_extension": ".py",
   "mimetype": "text/x-python",
   "name": "python",
   "nbconvert_exporter": "python",
   "pygments_lexer": "ipython3",
   "version": "3.11.7"
  }
 },
 "nbformat": 4,
 "nbformat_minor": 5
}
