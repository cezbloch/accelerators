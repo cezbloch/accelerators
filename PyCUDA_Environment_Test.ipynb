{
 "cells": [
  {
   "cell_type": "markdown",
   "id": "77dc177f",
   "metadata": {},
   "source": [
    "# PyCUDA Environment Test\n",
    "\n",
    "This notebook is designed to verify that your PyCUDA installation and GPU environment are working correctly before starting the GPU programming course. If all cells execute and the final message is printed, your setup is ready for the course."
   ]
  },
  {
   "cell_type": "code",
   "execution_count": null,
   "id": "315d1a4d",
   "metadata": {},
   "outputs": [],
   "source": [
    "import pycuda.driver as cuda\n",
    "import pycuda.autoinit\n",
    "from pycuda.compiler import SourceModule\n",
    "import numpy as np\n",
    "\n",
    "print(f\"CUDA driver version: {cuda.get_version()}\")\n",
    "print(f\"Number of CUDA devices: {cuda.Device.count()}\")\n",
    "for i in range(cuda.Device.count()):\n",
    "    dev = cuda.Device(i)\n",
    "    print(f\"Device {i}: {dev.name()} (Compute Capability: {dev.compute_capability()})\")"
   ]
  },
  {
   "cell_type": "code",
   "execution_count": null,
   "id": "ad44facb",
   "metadata": {},
   "outputs": [],
   "source": [
    "N = 2**25\n",
    "h_a = np.full(N, 1, dtype=np.int32)\n",
    "h_b = np.full(N, 2, dtype=np.int32)\n",
    "h_c = np.zeros_like(h_a)\n",
    "\n",
    "print(f\"Working with {len(h_a):,} elements with {h_a.nbytes:,} bytes.\")\n",
    "\n",
    "mod = SourceModule(\"\"\"\n",
    "__global__ void add_vectors(int *a, int *b, int *c, int N) {\n",
    "    int idx = threadIdx.x + blockDim.x * blockIdx.x;\n",
    "    if (idx < N) {\n",
    "        c[idx] = 2 * a[idx] + b[idx];\n",
    "    }\n",
    "}\n",
    "\"\"\")\n",
    "add_vectors = mod.get_function(\"add_vectors\")"
   ]
  },
  {
   "cell_type": "code",
   "execution_count": null,
   "id": "1f05ca2b",
   "metadata": {},
   "outputs": [],
   "source": [
    "import pycuda.gpuarray as gpuarray\n",
    "import time\n",
    "\n",
    "d_a = gpuarray.to_gpu(h_a)\n",
    "d_b = gpuarray.to_gpu(h_b)\n",
    "d_c = gpuarray.empty_like(d_a)\n",
    "\n",
    "block_size = 256\n",
    "grid_size = (N + block_size - 1) // block_size\n",
    "\n",
    "start = cuda.Event()\n",
    "end = cuda.Event()\n",
    "\n",
    "start.record()\n",
    "add_vectors(d_a, d_b, d_c, np.int32(N), block=(block_size,1,1), grid=(grid_size,1))\n",
    "end.record()\n",
    "end.synchronize()\n",
    "elapsed_ms = start.time_till(end)\n",
    "\n",
    "h_c = d_c.get()\n",
    "print(f\"Kernel execution time: {elapsed_ms:.4f} ms\")"
   ]
  },
  {
   "cell_type": "code",
   "execution_count": null,
   "id": "c0a7c3a9",
   "metadata": {},
   "outputs": [],
   "source": [
    "def compute_linear_equations_cpu(a, b):\n",
    "    return 2 * a + b\n",
    "\n",
    "numpy_res = compute_linear_equations_cpu(h_a, h_b)\n",
    "np.testing.assert_array_equal(numpy_res, h_c)\n",
    "\n",
    "print(\"If this message got printed in the output cell then everything worked correctly for PyCUDA.\")"
   ]
  }
 ],
 "metadata": {
  "kernelspec": {
   "display_name": "gpu",
   "language": "python",
   "name": "python3"
  },
  "language_info": {
   "codemirror_mode": {
    "name": "ipython",
    "version": 3
   },
   "file_extension": ".py",
   "mimetype": "text/x-python",
   "name": "python",
   "nbconvert_exporter": "python",
   "pygments_lexer": "ipython3",
   "version": "3.11.0"
  }
 },
 "nbformat": 4,
 "nbformat_minor": 5
}
